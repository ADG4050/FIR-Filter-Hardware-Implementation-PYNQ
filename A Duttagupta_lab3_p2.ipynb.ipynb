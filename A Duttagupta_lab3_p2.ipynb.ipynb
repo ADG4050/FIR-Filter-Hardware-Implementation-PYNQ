{
 "cells": [
  {
   "cell_type": "markdown",
   "metadata": {},
   "source": [
    "# Lab 3: FIR Filter \n",
    "In this notebook you will test your designed FIR filter on the PYNQ-Z2 board. \n",
    "\n",
    "You will need to plug headphones into your PYNQ board to hear the audio output."
   ]
  },
  {
   "cell_type": "markdown",
   "metadata": {},
   "source": [
    "# 1: Load the Overlay"
   ]
  },
  {
   "cell_type": "code",
   "execution_count": 1,
   "metadata": {},
   "outputs": [
    {
     "data": {
      "application/javascript": [
       "\n",
       "require(['notebook/js/codecell'], function(codecell) {\n",
       "  codecell.CodeCell.options_default.highlight_modes[\n",
       "      'magic_text/x-csrc'] = {'reg':[/^%%microblaze/]};\n",
       "  Jupyter.notebook.events.one('kernel_ready.Kernel', function(){\n",
       "      Jupyter.notebook.get_cells().map(function(cell){\n",
       "          if (cell.cell_type == 'code'){ cell.auto_highlight(); } }) ;\n",
       "  });\n",
       "});\n"
      ]
     },
     "metadata": {},
     "output_type": "display_data"
    }
   ],
   "source": [
    "import numpy as np\n",
    "from pynq import allocate\n",
    "from pynq import Overlay\n",
    "\n",
    "ol = Overlay(\"/home/xilinx/jupyter_notebooks/base_filter.bit\")"
   ]
  },
  {
   "cell_type": "markdown",
   "metadata": {},
   "source": [
    "# 2: Play the Audio File"
   ]
  },
  {
   "cell_type": "code",
   "execution_count": 2,
   "metadata": {},
   "outputs": [],
   "source": [
    "dma = ol.axi_dma"
   ]
  },
  {
   "cell_type": "code",
   "execution_count": 3,
   "metadata": {},
   "outputs": [],
   "source": [
    "input_buffer = allocate(shape=(64,), dtype=np.uint32)\n",
    "output_buffer = allocate(shape=(64,), dtype=np.uint32)"
   ]
  },
  {
   "cell_type": "code",
   "execution_count": 4,
   "metadata": {},
   "outputs": [],
   "source": [
    "for i in range(64):\n",
    "   input_buffer[i] = i+10"
   ]
  },
  {
   "cell_type": "code",
   "execution_count": 5,
   "metadata": {},
   "outputs": [],
   "source": [
    "dma.sendchannel.transfer(input_buffer)\n",
    "dma.sendchannel.wait()"
   ]
  },
  {
   "cell_type": "code",
   "execution_count": 6,
   "metadata": {},
   "outputs": [],
   "source": [
    "dma.recvchannel.transfer(output_buffer)\n",
    "dma.recvchannel.wait()"
   ]
  },
  {
   "cell_type": "code",
   "execution_count": 7,
   "metadata": {},
   "outputs": [
    {
     "name": "stdout",
     "output_type": "stream",
     "text": [
      "Arrays are equal: False\n"
     ]
    }
   ],
   "source": [
    "print(\"Arrays are equal: {}\".format(np.array_equal(input_buffer, output_buffer)))"
   ]
  },
  {
   "cell_type": "code",
   "execution_count": 8,
   "metadata": {
    "scrolled": true
   },
   "outputs": [],
   "source": [
    "pynqAudio = ol.audio_codec_ctrl_0 #might use the default app, so audio items might not work here. \n",
    "\n",
    "#pynqAudio.set_volume(15)"
   ]
  },
  {
   "cell_type": "code",
   "execution_count": 9,
   "metadata": {},
   "outputs": [],
   "source": [
    "pynqAudio.load(\"/home/xilinx/jupyter_notebooks/base/audio/recording_0.wav\")\n",
    "#make a local copy of the buffer to process and manipulate\n",
    "pynqAudio_buffer = pynqAudio.buffer.copy()"
   ]
  },
  {
   "cell_type": "code",
   "execution_count": 10,
   "metadata": {},
   "outputs": [],
   "source": [
    "pynqAudio.configure()"
   ]
  },
  {
   "cell_type": "code",
   "execution_count": 11,
   "metadata": {},
   "outputs": [],
   "source": [
    "pynqAudio.play()"
   ]
  },
  {
   "cell_type": "code",
   "execution_count": 12,
   "metadata": {},
   "outputs": [
    {
     "name": "stdout",
     "output_type": "stream",
     "text": [
      "480000\n"
     ]
    }
   ],
   "source": [
    "samplelen = len(pynqAudio.buffer)\n",
    "print(samplelen)"
   ]
  },
  {
   "cell_type": "markdown",
   "metadata": {},
   "source": [
    "The audio signal is 2 channels, concatenated. For filtering, we need to serialise the channels - this requires reshaping the input and manipulating the outputs to achieve the required order. In this specific case, we are reshaping the input buffer, transposing and then concatenating to create the required serialised format (Alternatively, the filter could be designed for multi-channel operation - a bit more complex to manage that from Pynq). "
   ]
  },
  {
   "cell_type": "markdown",
   "metadata": {},
   "source": [
    "# 3: Process the Audio"
   ]
  },
  {
   "cell_type": "markdown",
   "metadata": {},
   "source": [
    "### Get info from the audio signal\n",
    "Use the wave library to obtain the frames, number of channels, sampling rate and width of the audio."
   ]
  },
  {
   "cell_type": "code",
   "execution_count": 13,
   "metadata": {},
   "outputs": [],
   "source": [
    "%matplotlib inline\n",
    "import wave\n",
    "import numpy as np\n",
    "import matplotlib\n",
    "import matplotlib.pyplot as plt\n",
    "from scipy.fftpack import fft\n",
    "\n",
    "wav_path = \"/home/xilinx/jupyter_notebooks/base/audio/recording_0.wav\"\n",
    "with wave.open(wav_path, 'r') as wav_file:\n",
    "    raw_frames = wav_file.readframes(-1)\n",
    "    num_frames = wav_file.getnframes()\n",
    "    num_channels = wav_file.getnchannels()\n",
    "    sample_rate = wav_file.getframerate()\n",
    "    sample_width = wav_file.getsampwidth()"
   ]
  },
  {
   "cell_type": "markdown",
   "metadata": {},
   "source": [
    "### Decode the interleaved channel data into seperate channels"
   ]
  },
  {
   "cell_type": "code",
   "execution_count": 14,
   "metadata": {},
   "outputs": [],
   "source": [
    "inbuffer = allocate(shape=(samplelen,), dtype=np.int32)\n",
    "outbuffer = allocate(shape=(samplelen,), dtype=np.int32)\n",
    "\n",
    "\n",
    "temp_buffer = np.empty((num_frames, num_channels, 4), dtype=np.uint8)\n",
    "bytes_raw = np.frombuffer(pynqAudio_buffer, dtype=np.uint8)\n",
    "\n",
    "#Decode raw interleaved channel data into each channel with 4 bytes per channel- note that the upper bytes would be '0' and not properly sign extended\n",
    "temp_buffer[:, :, :] = bytes_raw.reshape(-1, num_channels, 4) \n",
    "temp_buffer[:, :, sample_width:] = (temp_buffer[:, :, sample_width-1:sample_width] >> 7) * 255 #Sign extend the buffer\n",
    "frames = temp_buffer.view('<i4').reshape(temp_buffer.shape[:-1]) #Compose it back to int32 format (signed), little endian format\n",
    "inbuffee = np.concatenate(frames.transpose(),0) #Concatenate the two channels without interleaving\n",
    "inbuffer[:] = inbuffee[:]\n"
   ]
  },
  {
   "cell_type": "markdown",
   "metadata": {},
   "source": [
    "### Check the formats are correctly aligned and sign-extended"
   ]
  },
  {
   "cell_type": "code",
   "execution_count": 15,
   "metadata": {},
   "outputs": [
    {
     "name": "stdout",
     "output_type": "stream",
     "text": [
      "16759079 -18137 [-18137 -17228] [[ 39 185 255 255]\n",
      " [180 188 255 255]]\n",
      "16759988 -16288 [-16288 -17228] [[ 96 192 255 255]\n",
      " [180 188 255 255]]\n",
      "16760928 -18820 [-18820 -15814] [[124 182 255 255]\n",
      " [ 58 194 255 255]]\n",
      "16759988 -17952 [-17952 -16718] [[224 185 255 255]\n",
      " [178 190 255 255]]\n",
      "16758396 -15108 [-15108 -14742] [[252 196 255 255]\n",
      " [106 198 255 255]]\n",
      "16761402 -11888 [-11888 -11436] [[144 209 255 255]\n",
      " [ 84 211 255 255]]\n",
      "16759264 -16479 [-16479 -14577] [[161 191 255 255]\n",
      " [ 15 199 255 255]]\n",
      "16760498 -17111 [-17111 -16331] [[ 41 189 255 255]\n",
      " [ 53 192 255 255]]\n",
      "16762108 -21349 [-21349 -19321] [[155 172 255 255]\n",
      " [135 180 255 255]]\n",
      "16762474 -31152 [-31152 -24503] [[ 80 134 255 255]\n",
      " [ 73 160 255 255]]\n"
     ]
    }
   ],
   "source": [
    "for i in range(10):\n",
    "    print(pynqAudio_buffer[i], inbuffer[i], frames[i], temp_buffer[i])\n",
    "    "
   ]
  },
  {
   "cell_type": "code",
   "execution_count": null,
   "metadata": {},
   "outputs": [],
   "source": []
  },
  {
   "cell_type": "markdown",
   "metadata": {},
   "source": [
    "# 4. Implement FIR Filter"
   ]
  },
  {
   "cell_type": "code",
   "execution_count": 16,
   "metadata": {},
   "outputs": [],
   "source": [
    "import time\n",
    "st = time.time()\n",
    "dma.sendchannel.transfer(inbuffer)\n",
    "dma.recvchannel.transfer(outbuffer)\n",
    "dma.sendchannel.wait()\n",
    "dma.recvchannel.wait()\n",
    "et = time.time()"
   ]
  },
  {
   "cell_type": "markdown",
   "metadata": {},
   "source": [
    "### Determine the hardware execution time"
   ]
  },
  {
   "cell_type": "code",
   "execution_count": 17,
   "metadata": {},
   "outputs": [
    {
     "name": "stdout",
     "output_type": "stream",
     "text": [
      "Hardware Execution time is:  0.5241281986236572\n"
     ]
    }
   ],
   "source": [
    "hw_exec_time = et - st\n",
    "print(\"Hardware Execution time is: \",hw_exec_time)"
   ]
  },
  {
   "cell_type": "markdown",
   "metadata": {},
   "source": [
    "### Remap to 2-channel audio format"
   ]
  },
  {
   "cell_type": "code",
   "execution_count": 18,
   "metadata": {},
   "outputs": [
    {
     "data": {
      "text/plain": [
       "480000"
      ]
     },
     "execution_count": 18,
     "metadata": {},
     "output_type": "execute_result"
    }
   ],
   "source": [
    "len(outbuffer)"
   ]
  },
  {
   "cell_type": "markdown",
   "metadata": {},
   "source": [
    "The received buffer is in concatenated format and hence need to be remapped to the two channel audio format. Hence, the reorganisation in the reverse order - split, transpose and concatenate. "
   ]
  },
  {
   "cell_type": "code",
   "execution_count": 19,
   "metadata": {},
   "outputs": [],
   "source": [
    "outbuff_ser = np.split(outbuffer,2)\n",
    "outbuff_trans = np.transpose(outbuff_ser)\n",
    "outbuff_fin = np.concatenate(outbuff_trans)\n"
   ]
  },
  {
   "cell_type": "markdown",
   "metadata": {},
   "source": [
    "### Play the filter output"
   ]
  },
  {
   "cell_type": "code",
   "execution_count": 20,
   "metadata": {},
   "outputs": [],
   "source": [
    "pynqAudio.buffer = outbuff_fin.copy()\n",
    "pynqAudio.play()"
   ]
  },
  {
   "cell_type": "markdown",
   "metadata": {},
   "source": [
    "## 5: Plot the Audio"
   ]
  },
  {
   "cell_type": "markdown",
   "metadata": {},
   "source": [
    "Now we can plot the two to see how they function. Recall that we had read the wave file using the wave library and ''raw_frames'' contains the raw data from the wavefile; We do the same processing as before to ensure the waveform is sign-extended and deinterleaved into separate channels."
   ]
  },
  {
   "cell_type": "markdown",
   "metadata": {},
   "source": [
    "### Decode interleaved channel data into each channel"
   ]
  },
  {
   "cell_type": "code",
   "execution_count": 21,
   "metadata": {},
   "outputs": [
    {
     "name": "stdout",
     "output_type": "stream",
     "text": [
      "(240000, 2, 4)\n"
     ]
    }
   ],
   "source": [
    "temp_buffer = np.empty((num_frames, num_channels, 4), dtype=np.uint8)\n",
    "raw_bytes = np.frombuffer(raw_frames, dtype=np.uint8)\n",
    "temp_buffer[:, :, :sample_width] = raw_bytes.reshape(-1, num_channels, \n",
    "                                                    sample_width)\n",
    "temp_buffer[:, :, sample_width:] = \\\n",
    "    (temp_buffer[:, :, sample_width-1:sample_width] >> 7) * 255\n",
    "\n",
    "frames = temp_buffer.view('<i4').reshape(temp_buffer.shape[:-1])\n",
    "print(np.shape(temp_buffer))"
   ]
  },
  {
   "cell_type": "markdown",
   "metadata": {},
   "source": [
    "### Plot the original audio from the 2 channels"
   ]
  },
  {
   "cell_type": "code",
   "execution_count": 22,
   "metadata": {},
   "outputs": [
    {
     "data": {
      "image/png": "[encoded data removed]",
      "text/plain": [
       "<matplotlib.figure.Figure at 0xadf016b0>"
      ]
     },
     "metadata": {},
     "output_type": "display_data"
    },
    {
     "data": {
      "image/png": "[encoded data removed]",
      "text/plain": [
       "<matplotlib.figure.Figure at 0xb6387850>"
      ]
     },
     "metadata": {},
     "output_type": "display_data"
    }
   ],
   "source": [
    "for channel_index in range(num_channels):\n",
    "    plt.figure(num=None, figsize=(15, 3))\n",
    "    plt.title('Audio in Time Domain (Channel {})'.format(channel_index))\n",
    "    plt.xlabel('Time in s')\n",
    "    plt.ylabel('Amplitude')\n",
    "    time_axis = np.arange(0, num_frames/sample_rate, 1/sample_rate)\n",
    "    plt.plot(time_axis, frames[:, channel_index])\n",
    "    plt.show()"
   ]
  },
  {
   "cell_type": "markdown",
   "metadata": {},
   "source": [
    "### Compare Filtered Signal with Original Audio"
   ]
  },
  {
   "cell_type": "markdown",
   "metadata": {},
   "source": [
    "Now let us compare against the hardware output"
   ]
  },
  {
   "cell_type": "code",
   "execution_count": 23,
   "metadata": {},
   "outputs": [],
   "source": [
    "temp_out = np.empty((num_frames, num_channels, 4), dtype=np.uint8)\n",
    "raw_out = np.frombuffer(outbuff_fin, dtype=np.uint8)\n",
    "temp_out[:, :, :] = raw_out.reshape(-1, num_channels, 4)\n",
    "frames_out = temp_out.view('<i4').reshape(temp_out.shape[:-1])"
   ]
  },
  {
   "cell_type": "code",
   "execution_count": 24,
   "metadata": {},
   "outputs": [
    {
     "data": {
      "image/png": "[encoded data removed]",
      "text/plain": [
       "<matplotlib.figure.Figure at 0xadf01d70>"
      ]
     },
     "metadata": {},
     "output_type": "display_data"
    },
    {
     "data": {
      "image/png": "[encoded data removed]",
      "text/plain": [
       "<matplotlib.figure.Figure at 0xad24d1b0>"
      ]
     },
     "metadata": {},
     "output_type": "display_data"
    }
   ],
   "source": [
    "for channel_index in range(num_channels):\n",
    "    plt.figure(num=None, figsize=(15, 3))\n",
    "    plt.title('Audio in Time Domain (Channel {})'.format(channel_index))\n",
    "    plt.xlabel('Time in s')\n",
    "    plt.ylabel('Amplitude')\n",
    "    time_axis = np.arange(0, num_frames/sample_rate, 1/sample_rate)\n",
    "    plt.plot(time_axis, frames[:,channel_index], 'g-', label=\"Audio Input\")\n",
    "    plt.plot(time_axis, frames_out[:, channel_index], 'y-', label=\"HW Filter\")\n",
    "    plt.legend()\n",
    "    plt.show()"
   ]
  },
  {
   "cell_type": "markdown",
   "metadata": {},
   "source": [
    "# 6: Compare to Software Execution of Filter"
   ]
  },
  {
   "cell_type": "code",
   "execution_count": 27,
   "metadata": {},
   "outputs": [
    {
     "name": "stdout",
     "output_type": "stream",
     "text": [
      "217\n"
     ]
    }
   ],
   "source": [
    "from scipy.signal import lfilter\n",
    "coeffs = [0.072143555,\n",
    "-0.058349609,\n",
    "-0.037109375,\n",
    "-0.022094727,\n",
    "-0.01159668,\n",
    "-0.004272461,\n",
    "0.000732422,\n",
    "0.00402832,\n",
    "0.006103516,\n",
    "0.007324219,\n",
    "0.00793457,\n",
    "0.008178711,\n",
    "0.008056641,\n",
    "0.00769043,\n",
    "0.007324219,\n",
    "0.006713867,\n",
    "0.006103516,\n",
    "0.005493164,\n",
    "0.004760742,\n",
    "0.004150391,\n",
    "0.003540039,\n",
    "0.002807617,\n",
    "0.002197266,\n",
    "0.001586914,\n",
    "0.000976563,\n",
    "0.000366211,\n",
    "-0.000244141,\n",
    "-0.000854492,\n",
    "-0.001342773,\n",
    "-0.001831055,\n",
    "-0.002319336,\n",
    "-0.002807617,\n",
    "-0.003173828,\n",
    "-0.003540039,\n",
    "-0.00390625,\n",
    "-0.004150391,\n",
    "-0.004394531,\n",
    "-0.004638672,\n",
    "-0.004760742,\n",
    "-0.004760742,\n",
    "-0.004882813,\n",
    "-0.004760742,\n",
    "-0.004760742,\n",
    "-0.004638672,\n",
    "-0.004394531,\n",
    "-0.004150391,\n",
    "-0.00378418,\n",
    "-0.003417969,\n",
    "-0.002929688,\n",
    "-0.002441406,\n",
    "-0.001953125,\n",
    "-0.001342773,\n",
    "-0.000854492,\n",
    "-0.00012207,\n",
    "0.000488281,\n",
    "0.001220703,\n",
    "0.001831055,\n",
    "0.002563477,\n",
    "0.003295898,\n",
    "0.00402832,\n",
    "0.004638672,\n",
    "0.005249023,\n",
    "0.005859375,\n",
    "0.006347656,\n",
    "0.006835938,\n",
    "0.007202148,\n",
    "0.007568359,\n",
    "0.0078125,\n",
    "0.00793457,\n",
    "0.008056641,\n",
    "0.00793457,\n",
    "0.0078125,\n",
    "0.007446289,\n",
    "0.007080078,\n",
    "0.006591797,\n",
    "0.005981445,\n",
    "0.005126953,\n",
    "0.004272461,\n",
    "0.003295898,\n",
    "0.002075195,\n",
    "0.000854492,\n",
    "-0.000488281,\n",
    "-0.001953125,\n",
    "-0.003417969,\n",
    "-0.005126953,\n",
    "-0.006835938,\n",
    "-0.008544922,\n",
    "-0.010375977,\n",
    "-0.012207031,\n",
    "-0.014038086,\n",
    "-0.015991211,\n",
    "-0.017944336,\n",
    "-0.019775391,\n",
    "-0.021728516,\n",
    "-0.02355957,\n",
    "-0.025268555,\n",
    "-0.026977539,\n",
    "-0.028564453,\n",
    "-0.030029297,\n",
    "-0.031494141,\n",
    "-0.032836914,\n",
    "-0.034057617,\n",
    "-0.03503418,\n",
    "-0.035888672,\n",
    "-0.036743164,\n",
    "-0.037231445,\n",
    "-0.037597656,\n",
    "-0.037963867,\n",
    "1,\n",
    "-0.037963867,\n",
    "-0.037597656,\n",
    "-0.037231445,\n",
    "-0.036743164,\n",
    "-0.035888672,\n",
    "-0.03503418,\n",
    "-0.034057617,\n",
    "-0.032836914,\n",
    "-0.031494141,\n",
    "-0.030029297,\n",
    "-0.028564453,\n",
    "-0.026977539,\n",
    "-0.025268555,\n",
    "-0.02355957,\n",
    "-0.021728516,\n",
    "-0.019775391,\n",
    "-0.017944336,\n",
    "-0.015991211,\n",
    "-0.014038086,\n",
    "-0.012207031,\n",
    "-0.010375977,\n",
    "-0.008544922,\n",
    "-0.006835938,\n",
    "-0.005126953,\n",
    "-0.003417969,\n",
    "-0.001953125,\n",
    "-0.000488281,\n",
    "0.000854492,\n",
    "0.002075195,\n",
    "0.003295898,\n",
    "0.004272461,\n",
    "0.005126953,\n",
    "0.005981445,\n",
    "0.006591797,\n",
    "0.007080078,\n",
    "0.007446289,\n",
    "0.0078125,\n",
    "0.00793457,\n",
    "0.008056641,\n",
    "0.00793457,\n",
    "0.0078125,\n",
    "0.007568359,\n",
    "0.007202148,\n",
    "0.006835938,\n",
    "0.006347656,\n",
    "0.005859375,\n",
    "0.005249023,\n",
    "0.004638672,\n",
    "0.00402832,\n",
    "0.003295898,\n",
    "0.002563477,\n",
    "0.001831055,\n",
    "0.001220703,\n",
    "0.000488281,\n",
    "-0.00012207,\n",
    "-0.000854492,\n",
    "-0.001342773,\n",
    "-0.001953125,\n",
    "-0.002441406,\n",
    "-0.002929688,\n",
    "-0.003417969,\n",
    "-0.00378418,\n",
    "-0.004150391,\n",
    "-0.004394531,\n",
    "-0.004638672,\n",
    "-0.004760742,\n",
    "-0.004760742,\n",
    "-0.004882813,\n",
    "-0.004760742,\n",
    "-0.004760742,\n",
    "-0.004638672,\n",
    "-0.004394531,\n",
    "-0.004150391,\n",
    "-0.00390625,\n",
    "-0.003540039,\n",
    "-0.003173828,\n",
    "-0.002807617,\n",
    "-0.002319336,\n",
    "-0.001831055,\n",
    "-0.001342773,\n",
    "-0.000854492,\n",
    "-0.000244141,\n",
    "0.000366211,\n",
    "0.000976563,\n",
    "0.001586914,\n",
    "0.002197266,\n",
    "0.002807617,\n",
    "0.003540039,\n",
    "0.004150391,\n",
    "0.004760742,\n",
    "0.005493164,\n",
    "0.006103516,\n",
    "0.006713867,\n",
    "0.007324219,\n",
    "0.00769043,\n",
    "0.008056641,\n",
    "0.008178711,\n",
    "0.00793457,\n",
    "0.007324219,\n",
    "0.006103516,\n",
    "0.00402832,\n",
    "0.000732422,\n",
    "-0.004272461,\n",
    "-0.01159668,\n",
    "-0.022094727,\n",
    "-0.037109375,\n",
    "-0.058349609,\n",
    "0.072143555\n",
    "]\n",
    "print(len(coeffs))"
   ]
  },
  {
   "cell_type": "markdown",
   "metadata": {},
   "source": [
    "### Calculate software execution time"
   ]
  },
  {
   "cell_type": "code",
   "execution_count": 28,
   "metadata": {},
   "outputs": [
    {
     "name": "stdout",
     "output_type": "stream",
     "text": [
      "Software execution time:  0.7895879745483398\n"
     ]
    }
   ],
   "source": [
    "st = time.time()\n",
    "swfilter = lfilter(coeffs, 128e3, inbuffer)\n",
    "et = time.time()\n",
    "sw_exec_time = et - st\n",
    "print (\"Software execution time: \", sw_exec_time)"
   ]
  },
  {
   "cell_type": "markdown",
   "metadata": {},
   "source": [
    "### Convert serial format to 2 channel format"
   ]
  },
  {
   "cell_type": "code",
   "execution_count": 29,
   "metadata": {},
   "outputs": [],
   "source": [
    "# View the output as int32 type instead of float64 inferred by lfilter\n",
    "swfilter = swfilter.astype(np.int32)\n",
    "\n",
    "# Now let us convert the serialised format back to the two channel format\n",
    "swbuff_ser = np.split(swfilter,2)\n",
    "swbuff_trans = np.transpose(swbuff_ser)\n",
    "swbuff_fin = np.concatenate(swbuff_trans)"
   ]
  },
  {
   "cell_type": "code",
   "execution_count": 30,
   "metadata": {},
   "outputs": [],
   "source": [
    "temp_out_sw = np.empty((num_frames, 2, 4), dtype=np.uint8)\n",
    "raw_out_sw = np.frombuffer(swbuff_fin, dtype=np.uint8)\n",
    "temp_out_sw[:, :, :] = raw_out_sw.reshape(-1, 2, 4)\n",
    "frames_out = temp_out.view('<i4').reshape(temp_out.shape[:-1])"
   ]
  },
  {
   "cell_type": "markdown",
   "metadata": {},
   "source": [
    "### Plot the software implementation result"
   ]
  },
  {
   "cell_type": "code",
   "execution_count": 31,
   "metadata": {},
   "outputs": [
    {
     "data": {
      "image/png": "[encoded data removed]",
      "text/plain": [
       "<matplotlib.figure.Figure at 0xad240950>"
      ]
     },
     "metadata": {},
     "output_type": "display_data"
    }
   ],
   "source": [
    "plt.figure(num=None, figsize=(15, 3))\n",
    "plt.title('Audio in Time Domain (Channel {})'.format(0))\n",
    "plt.xlabel('Time in s')\n",
    "plt.ylabel('Amplitude')\n",
    "time_axis = np.arange(0, num_frames/sample_rate, 1/sample_rate)\n",
    "plt.plot(time_axis, frames[:,0], 'g-', label = \"Input Audio\")\n",
    "plt.plot(time_axis, frames_out[:,0], 'y-', label=\"SW Filter\")\n",
    "plt.show()"
   ]
  },
  {
   "cell_type": "code",
   "execution_count": null,
   "metadata": {},
   "outputs": [],
   "source": []
  },
  {
   "cell_type": "code",
   "execution_count": null,
   "metadata": {},
   "outputs": [],
   "source": []
  }
 ],
 "metadata": {
  "kernelspec": {
   "display_name": "Python 3",
   "language": "python",
   "name": "python3"
  },
  "language_info": {
   "codemirror_mode": {
    "name": "ipython",
    "version": 3
   },
   "file_extension": ".py",
   "mimetype": "text/x-python",
   "name": "python",
   "nbconvert_exporter": "python",
   "pygments_lexer": "ipython3",
   "version": "3.6.5"
  }
 },
 "nbformat": 4,
 "nbformat_minor": 5
}
